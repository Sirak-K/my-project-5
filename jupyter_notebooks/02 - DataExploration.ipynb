{
 "cells": [
  {
   "cell_type": "markdown",
   "metadata": {
    "id": "0aStgWSO0E0E"
   },
   "source": [
    "# **Data Exploration Study**"
   ]
  },
  {
   "cell_type": "markdown",
   "metadata": {
    "id": "1eLEkw5O0ECa"
   },
   "source": [
    "## Objectives\n",
    "\n",
    "### Business Requirement 1:\n",
    "The client is interested in discovering how the house attributes correlate with the sale price. Therefore, the client expects data visualisations of the correlated variables against the sale price to show that.\n",
    "\n",
    "#### Covered in this Notebook:\n",
    "1) Features and correlations related to: Missing Values\n",
    "2) Features and correlations related to: Feature Types\n",
    "3) Distribution of Continuous Numerical Features\n",
    "4) Variable significance in a business context\n",
    "\n",
    "\n",
    "## Inputs\n",
    "\n",
    "outputs/datasets/collection/house_prices_records.csv\n",
    "\n",
    "## Outputs\n",
    "\n",
    "Implement the code that answers business requirement 1 and can be used to build the Streamlit App\n",
    "\n",
    "## Additional Notes\n",
    "\n",
    "The Target Variable is \"SalePrice\"."
   ]
  },
  {
   "cell_type": "markdown",
   "metadata": {
    "id": "cqP-UeN-z3i2"
   },
   "source": [
    "# Change working directory"
   ]
  },
  {
   "cell_type": "code",
   "execution_count": null,
   "metadata": {
    "id": "wZfF_j-Bz3i4",
    "outputId": "66943449-1436-4c3d-85c7-b85f9f78349b"
   },
   "outputs": [],
   "source": [
    "import os\n",
    "current_dir = os.getcwd()\n",
    "current_dir"
   ]
  },
  {
   "cell_type": "code",
   "execution_count": null,
   "metadata": {
    "id": "TwHsQRWjz3i9",
    "outputId": "86849db3-cd2f-4cc5-ebb8-2d0caafa1a2c"
   },
   "outputs": [],
   "source": [
    "os.chdir(os.path.dirname(current_dir))\n",
    "print(\"You set a new current directory\")"
   ]
  },
  {
   "cell_type": "code",
   "execution_count": null,
   "metadata": {
    "id": "vz3S-_kjz3jA",
    "outputId": "00b79ae4-75d0-4a96-d193-ac9ef9847ea2"
   },
   "outputs": [],
   "source": [
    "current_dir = os.getcwd()\n",
    "current_dir"
   ]
  },
  {
   "cell_type": "markdown",
   "metadata": {},
   "source": [
    "# EDA: Import Tools"
   ]
  },
  {
   "cell_type": "code",
   "execution_count": null,
   "metadata": {},
   "outputs": [],
   "source": [
    "import pandas as pd\n",
    "import numpy as np\n",
    "import matplotlib.pyplot as plt\n",
    "%matplotlib inline\n",
    "import seaborn as sns\n",
    "\n",
    "## Display all columns of the DataFrame\n",
    "pd.pandas.set_option('display.max_columns',None)"
   ]
  },
  {
   "cell_type": "markdown",
   "metadata": {
    "id": "-mavJ8DibrcQ"
   },
   "source": [
    "# EDA: Load Data"
   ]
  },
  {
   "cell_type": "code",
   "execution_count": null,
   "metadata": {},
   "outputs": [],
   "source": [
    "dataset_raw_path = \"outputs/datasets/collection/house_prices_records.csv\"\n",
    "dataset = pd.read_csv(dataset_raw_path)\n",
    "print(dataset.shape)"
   ]
  },
  {
   "cell_type": "code",
   "execution_count": null,
   "metadata": {},
   "outputs": [],
   "source": [
    "dataset.head()"
   ]
  },
  {
   "cell_type": "markdown",
   "metadata": {},
   "source": [
    "# EDA: Start"
   ]
  },
  {
   "cell_type": "markdown",
   "metadata": {},
   "source": [
    "# Explore Features\n",
    "## Of Type: All\n",
    "### Target: Missing Values"
   ]
  },
  {
   "cell_type": "code",
   "execution_count": null,
   "metadata": {},
   "outputs": [],
   "source": [
    "features_with_missing_values=[features for features in dataset.columns if dataset[features].isnull().sum()>1]\n",
    "\n",
    "for feature in features_with_missing_values:\n",
    "    print(feature, np.round(dataset[feature].isnull().mean(),4), ' % Percentage of Missing Values in entire Dataset')"
   ]
  },
  {
   "cell_type": "markdown",
   "metadata": {},
   "source": [
    "## Explore Correlations\n",
    "### Between: Missing Values & the Target Variable"
   ]
  },
  {
   "cell_type": "code",
   "execution_count": null,
   "metadata": {
    "scrolled": true
   },
   "outputs": [],
   "source": [
    "for feature in features_with_missing_values:\n",
    "    data_mval = dataset.copy()\n",
    "    \n",
    "    # Replace missing values with 1\n",
    "    # Features with NO missing values are assigned 0 \n",
    "    data_mval[feature] = np.where(data_mval[feature].isnull(), 1, 0)\n",
    "    \n",
    "    data_mval.groupby(feature)['SalePrice'].median().plot.bar()\n",
    "    plt.title(feature)\n",
    "    plt.show()"
   ]
  },
  {
   "cell_type": "markdown",
   "metadata": {},
   "source": [
    "#### The missing values will be handled in the Feature Engineering section of the project."
   ]
  },
  {
   "cell_type": "markdown",
   "metadata": {},
   "source": [
    "# Explore Features\n",
    "## Of Type: Numerical"
   ]
  },
  {
   "cell_type": "code",
   "execution_count": null,
   "metadata": {},
   "outputs": [],
   "source": [
    "# List\n",
    "numerical_features = [feature for feature in dataset.columns if dataset[feature].dtypes != 'O']\n",
    "\n",
    "print('Amount of Numerical Features: ', len(numerical_features))\n",
    "\n",
    "# Visualize\n",
    "dataset[numerical_features].head()"
   ]
  },
  {
   "cell_type": "markdown",
   "metadata": {},
   "source": [
    "# Explore Features\n",
    "## Of Type: Temporal"
   ]
  },
  {
   "cell_type": "code",
   "execution_count": null,
   "metadata": {},
   "outputs": [],
   "source": [
    "# List\n",
    "year_feature_in_numerical_features = [feature for feature in numerical_features if 'Yr' in feature or 'Year' in feature]\n",
    "year_feature_in_numerical_features"
   ]
  },
  {
   "cell_type": "code",
   "execution_count": null,
   "metadata": {},
   "outputs": [],
   "source": [
    "for feature in year_feature_in_numerical_features:\n",
    "    print(feature, dataset[feature].unique())"
   ]
  },
  {
   "cell_type": "markdown",
   "metadata": {},
   "source": [
    "## Explore Correlations\n",
    "### Between: Temporal Features & the Target Variable"
   ]
  },
  {
   "cell_type": "code",
   "execution_count": null,
   "metadata": {},
   "outputs": [],
   "source": [
    "# Explore\n",
    "dataset.groupby('YearBuilt')['SalePrice'].median().plot()\n",
    "plt.xlabel('Year Built')\n",
    "plt.ylabel('Median House Price')\n",
    "plt.title(\"YearBuilt vs SalePrice\")"
   ]
  },
  {
   "cell_type": "markdown",
   "metadata": {},
   "source": [
    "### Visualize Correlations\n",
    "Note: X-Axis represents the Amount Of Years Elapsed"
   ]
  },
  {
   "cell_type": "code",
   "execution_count": null,
   "metadata": {
    "scrolled": true
   },
   "outputs": [],
   "source": [
    "for feature in year_feature_in_numerical_features:\n",
    "    if feature!='GarageYrBlt':\n",
    "        # Implement a new \"data\"-variable\n",
    "        data_of_year_features=dataset.copy()\n",
    "        # Compare\n",
    "        data_of_year_features[feature]=data_of_year_features['GarageYrBlt']-data_of_year_features[feature]\n",
    "\n",
    "        plt.scatter(data_of_year_features[feature],data_of_year_features['SalePrice'])\n",
    "        plt.xlabel(feature)\n",
    "        plt.ylabel('SalePrice')\n",
    "        plt.show()"
   ]
  },
  {
   "cell_type": "markdown",
   "metadata": {},
   "source": [
    "# Explore Features\n",
    "## Of Type: Numerical - Discrete"
   ]
  },
  {
   "cell_type": "code",
   "execution_count": null,
   "metadata": {},
   "outputs": [],
   "source": [
    "# Set \"25\" as the threshold for discrete variables\n",
    "discrete_in_numerical_features=[feature for feature in numerical_features if len(dataset[feature].unique())<25 and feature not in year_feature_in_numerical_features]\n",
    "\n",
    "print(\"Amount of Discrete Features: {}\".format(len(discrete_in_numerical_features)))"
   ]
  },
  {
   "cell_type": "code",
   "execution_count": null,
   "metadata": {},
   "outputs": [],
   "source": [
    "discrete_in_numerical_features"
   ]
  },
  {
   "cell_type": "code",
   "execution_count": null,
   "metadata": {},
   "outputs": [],
   "source": [
    "dataset[discrete_in_numerical_features].head()"
   ]
  },
  {
   "cell_type": "markdown",
   "metadata": {},
   "source": [
    "## Explore Correlations\n",
    "### Between: Discrete Features & the Target Variable"
   ]
  },
  {
   "cell_type": "code",
   "execution_count": null,
   "metadata": {
    "scrolled": true
   },
   "outputs": [],
   "source": [
    "for feature in discrete_in_numerical_features:\n",
    "    data_discrete=dataset.copy()\n",
    "    data_discrete.groupby(feature)['SalePrice'].median().plot.bar()\n",
    "    plt.xlabel(feature)\n",
    "    plt.ylabel('SalePrice')\n",
    "    plt.title(feature)\n",
    "    plt.show()"
   ]
  },
  {
   "cell_type": "markdown",
   "metadata": {},
   "source": [
    "### Conclusions & Observations\n",
    "- Monotonic Relationship with Target Variable: OverallQual"
   ]
  },
  {
   "cell_type": "markdown",
   "metadata": {},
   "source": [
    "## Explore Correlations \n",
    "### Between: Continuous Features & the Target Variable"
   ]
  },
  {
   "cell_type": "code",
   "execution_count": null,
   "metadata": {},
   "outputs": [],
   "source": [
    "# Implement Variable\n",
    "cont_feature=[feature for feature in numerical_features if feature not in discrete_in_numerical_features+year_feature_in_numerical_features]\n",
    "print(\"Amount of Continuous Features: {}\".format(len(cont_feature)))"
   ]
  },
  {
   "cell_type": "code",
   "execution_count": null,
   "metadata": {
    "scrolled": true
   },
   "outputs": [],
   "source": [
    "for feature in cont_feature:\n",
    "    data_cont=dataset.copy()\n",
    "    data_cont[feature].hist(bins=25)\n",
    "    plt.xlabel(feature)\n",
    "    plt.ylabel(\"Amount\")\n",
    "    plt.title(feature)\n",
    "    plt.show()"
   ]
  },
  {
   "cell_type": "markdown",
   "metadata": {},
   "source": [
    "### Conclusions & Observations\n",
    "- Non-Gaussian (Abnormal Distribution) patterns implies Skewness"
   ]
  },
  {
   "cell_type": "markdown",
   "metadata": {},
   "source": [
    "# Explore Distribution\n",
    "## Applied Technique: Logarithmic Transformation"
   ]
  },
  {
   "cell_type": "markdown",
   "metadata": {},
   "source": [
    "(The actual technique is applied in the Data Cleaning notebook.)"
   ]
  },
  {
   "cell_type": "markdown",
   "metadata": {},
   "source": [
    "- Is applied to Feature Type: Numerical - Continuous \n",
    "- Purpose: To handle skewness and normalize the distribution"
   ]
  },
  {
   "cell_type": "markdown",
   "metadata": {},
   "source": [
    "## Explore Data Points\n",
    "### Of Type: Outliers\n",
    "#### With: Box Plot"
   ]
  },
  {
   "cell_type": "code",
   "execution_count": null,
   "metadata": {
    "scrolled": true
   },
   "outputs": [],
   "source": [
    "# Identify Outliers\n",
    "for feature in cont_feature:\n",
    "    data_of_outliers=dataset.copy()\n",
    "    if 0 in data_of_outliers[feature].unique():\n",
    "        pass\n",
    "    else:\n",
    "        data_of_outliers[feature]=np.log(data_of_outliers[feature])\n",
    "        data_of_outliers.boxplot(column=feature)\n",
    "        plt.ylabel(feature)\n",
    "        plt.title(feature)\n",
    "        plt.show()"
   ]
  },
  {
   "cell_type": "markdown",
   "metadata": {},
   "source": [
    "# Explore Features\n",
    "## Of Type: Categorical"
   ]
  },
  {
   "cell_type": "code",
   "execution_count": null,
   "metadata": {},
   "outputs": [],
   "source": [
    "data_of_categorical=dataset.copy()\n",
    "\n",
    "categorical_features=[feature for feature in dataset.columns if data_of_categorical[feature].dtypes=='O']\n",
    "categorical_features"
   ]
  },
  {
   "cell_type": "code",
   "execution_count": null,
   "metadata": {},
   "outputs": [],
   "source": [
    "dataset[categorical_features].head()"
   ]
  },
  {
   "cell_type": "code",
   "execution_count": null,
   "metadata": {},
   "outputs": [],
   "source": [
    "for feature in categorical_features:\n",
    "    print(' {} has {}'.format(feature,dataset[feature].unique()))"
   ]
  },
  {
   "cell_type": "code",
   "execution_count": null,
   "metadata": {},
   "outputs": [],
   "source": [
    "# List all their labels/categories \n",
    "for feature in categorical_features:\n",
    "    print(' {} has {} labels'.format(feature,len(dataset[feature].unique())))"
   ]
  },
  {
   "cell_type": "markdown",
   "metadata": {},
   "source": [
    "## Explore Correlations\n",
    "### Between: Categorical Features & the Target Variable"
   ]
  },
  {
   "cell_type": "code",
   "execution_count": null,
   "metadata": {},
   "outputs": [],
   "source": [
    "for feature in categorical_features:\n",
    "    data_of_categorical=dataset.copy()\n",
    "    data_of_categorical.groupby(feature)['SalePrice'].median().plot.bar()\n",
    "    plt.xlabel(feature)\n",
    "    plt.ylabel('SalePrice')\n",
    "    plt.title(feature)\n",
    "    plt.show()"
   ]
  },
  {
   "cell_type": "markdown",
   "metadata": {},
   "source": [
    "# EDA: Finish"
   ]
  },
  {
   "cell_type": "code",
   "execution_count": null,
   "metadata": {
    "id": "aKlnIozA4eQO",
    "outputId": "fd09bc1f-adb1-4511-f6ce-492a6af570c0"
   },
   "outputs": [],
   "source": [
    "import os\n",
    "try:\n",
    "    os.makedirs(name='outputs/datasets/collection')\n",
    "except Exception as e:\n",
    "    print(e)\n",
    "\n",
    "# File-1) Data Points - Missing Values\n",
    "data_mval.to_csv(\"outputs/datasets/collection/data_mval.csv\", index=False)\n",
    "\n",
    "# File-2) Temporal Features\n",
    "data_of_year_features.to_csv(\"outputs/datasets/collection/data_of_year_features.csv\", index=False)\n",
    "\n",
    "# File-3) Discrete Numerical Features\n",
    "data_discrete.to_csv(\"outputs/datasets/collection/data_discrete.csv\", index=False)\n",
    "\n",
    "# File-4) Cont. Numerical Features\n",
    "data_cont.to_csv(\"outputs/datasets/collection/data_cont.csv\", index=False)\n",
    "\n",
    "# File-5) Data Points - Outliers\n",
    "data_of_outliers.to_csv(\"outputs/datasets/collection/data_of_outliers.csv\", index=False)\n",
    "\n",
    "# File-6) Categorical Features\n",
    "data_of_categorical.to_csv(\"outputs/datasets/collection/data_of_categorical.csv\", index=False)"
   ]
  },
  {
   "cell_type": "code",
   "execution_count": null,
   "metadata": {},
   "outputs": [],
   "source": []
  }
 ],
 "metadata": {
  "accelerator": "GPU",
  "colab": {
   "name": "Data Practitioner Jupyter Notebook.ipynb",
   "provenance": [],
   "toc_visible": true
  },
  "interpreter": {
   "hash": "8b8334dab9339717f727a1deaf837b322d7a41c20d15cc86be99a8e69ceec8ce"
  },
  "kernelspec": {
   "display_name": "Python 3.8.12 64-bit ('3.8.12': pyenv)",
   "language": "python",
   "name": "python381264bit3812pyenv81cdd682ff264c619337b331e5d72cb4"
  },
  "language_info": {
   "codemirror_mode": {
    "name": "ipython",
    "version": 3
   },
   "file_extension": ".py",
   "mimetype": "text/x-python",
   "name": "python",
   "nbconvert_exporter": "python",
   "pygments_lexer": "ipython3",
   "version": "3.8.12"
  }
 },
 "nbformat": 4,
 "nbformat_minor": 2
}
