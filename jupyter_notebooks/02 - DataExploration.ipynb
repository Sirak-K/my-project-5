{
 "cells": [
  {
   "cell_type": "markdown",
   "metadata": {
    "id": "0aStgWSO0E0E"
   },
   "source": [
    "# Data Exploration and Study Notebook"
   ]
  },
  {
   "cell_type": "markdown",
   "metadata": {
    "id": "1eLEkw5O0ECa"
   },
   "source": [
    "## Objectives\n",
    "\n",
    "### Business Requirement 1:\n",
    "- The client is interested in discovering how the house attributes correlate with the sale price. \n",
    "- Therefore, the client expects data visualisations of the correlated variables against the sale price to show that.\n",
    "\n",
    "#### Covered in this Notebook:\n",
    "\n",
    "* Missing Values\n",
    "* Feature Types\n",
    "* Distribution\n",
    "\n",
    "## Inputs\n",
    "\n",
    "* outputs/datasets/collection/HousePricesRecords.csv\n",
    "\n",
    "\n",
    "## Outputs\n",
    "\n",
    "- Calculate the correlation coefficients between the house attributes and the sale price and visualize in a heat map. Create scatterplots of each correlated attribute against the sell price.\n",
    "\n",
    "- Save correlation coefficients to:\n",
    "outputs/house_prices_study/v1/corr_df_rev.csv\n",
    "\n",
    "- Save dictionary used in encoding object variables to:\n",
    "outputs/house_prices_study/v1/dic.pkl\n",
    "\n",
    "# Additional Comments\n",
    "\n",
    "All the dataframes used in this notebook:\n",
    "\n",
    "| DataFrame                 | Description                                                                                            |\n",
    "|---------------------------|--------------------------------------------------------------------------------------------------------|\n",
    "| corr                      | Combined series of correlation coefficients for numerical and object features, sorted by absolute values |\n",
    "| corr_df                   | DataFrame with correlation coefficients for the heatmap visualization                                  |\n",
    "| corr_df_rev               | Reversed version of corr_df for the heatmap visualization                                                |\n",
    "| corr_num                  | Pandas Series containing correlation coefficients for numerical features, sorted by absolute values    |\n",
    "| corr_object               | Pandas Series containing correlation coefficients for object features, sorted by absolute values       |\n",
    "| data_cont                 | Copy for exploring continuous numerical features                                            |\n",
    "| data_discrete             | Copy for exploring discrete numerical features                                              |\n",
    "| data_mval                 | Copy with missing values replaced by 1 or 0                                                 |\n",
    "| data_of_categorical       | Copy for exploring categorical features                                                     |\n",
    "| data_of_outliers_in_cont  | Copy for identifying outliers in cont. features                                        |\n",
    "| data_of_year_features     | Copy for exploring temporal features                                                        |\n",
    "| df                        | Loaded from the CSV file at the path                                                                    |\n",
    "| df1                       | Subset of df after removing zeros                                                             |\n",
    "| df2                       | Subset of df1 after removing missing values                                                 |\n",
    "| df3                       | Subset of df2 containing only 'SalePrice' and the current column being analyzed in a loop              |\n",
    "| df4                       | Subset of df3 containing 'SalePrice' and the current object column being analyzed in a loop             |\n",
    "| dic                       | Dictionary mapping ordinal categorical values to integers for four object variables                   |\n",
    "| dtype_dict                | Dictionary mapping column names to their data types                                                     |\n",
    "| fig                       | Figure object for the correlation heatmap plot                                                          |\n",
    "| mask                      | Boolean mask for retaining correlation values above 0.4 for the heatmap                                |\n",
    "| moderate_correlation      | List of column names with moderate correlation with 'SalePrice'                                         |\n",
    "| strong_correlation        | List of column names with strong correlation with 'SalePrice'                                           |                      "
   ]
  },
  {
   "cell_type": "markdown",
   "metadata": {
    "id": "cqP-UeN-z3i2"
   },
   "source": [
    "# Change working directory"
   ]
  },
  {
   "cell_type": "code",
   "execution_count": 1,
   "metadata": {
    "id": "wZfF_j-Bz3i4",
    "outputId": "66943449-1436-4c3d-85c7-b85f9f78349b"
   },
   "outputs": [
    {
     "data": {
      "text/plain": [
       "'/workspaces/my-project-5/jupyter_notebooks'"
      ]
     },
     "execution_count": 1,
     "metadata": {},
     "output_type": "execute_result"
    }
   ],
   "source": [
    "import os\n",
    "current_dir = os.getcwd()\n",
    "current_dir"
   ]
  },
  {
   "cell_type": "code",
   "execution_count": 2,
   "metadata": {
    "id": "TwHsQRWjz3i9",
    "outputId": "86849db3-cd2f-4cc5-ebb8-2d0caafa1a2c"
   },
   "outputs": [
    {
     "name": "stdout",
     "output_type": "stream",
     "text": [
      "You set a new current directory\n"
     ]
    }
   ],
   "source": [
    "os.chdir(os.path.dirname(current_dir))\n",
    "print(\"You set a new current directory\")"
   ]
  },
  {
   "cell_type": "code",
   "execution_count": 3,
   "metadata": {
    "id": "vz3S-_kjz3jA",
    "outputId": "00b79ae4-75d0-4a96-d193-ac9ef9847ea2"
   },
   "outputs": [
    {
     "data": {
      "text/plain": [
       "'/workspaces/my-project-5'"
      ]
     },
     "execution_count": 3,
     "metadata": {},
     "output_type": "execute_result"
    }
   ],
   "source": [
    "current_dir = os.getcwd()\n",
    "current_dir"
   ]
  },
  {
   "cell_type": "markdown",
   "metadata": {
    "id": "-mavJ8DibrcQ"
   },
   "source": [
    "# Load Data"
   ]
  },
  {
   "cell_type": "code",
   "execution_count": null,
   "metadata": {},
   "outputs": [],
   "source": [
    "import pandas as pd\n",
    "df_raw_path = \"outputs/datasets/collection/house_prices_records.csv\"\n",
    "df = pd.read_csv(df_raw_path)\n",
    "df.head(5)"
   ]
  },
  {
   "cell_type": "markdown",
   "metadata": {},
   "source": [
    "# Exploratory Data Analysis \n",
    "## Import Tools"
   ]
  },
  {
   "cell_type": "code",
   "execution_count": null,
   "metadata": {},
   "outputs": [],
   "source": [
    "import pandas as pd\n",
    "import numpy as np\n",
    "import matplotlib.pyplot as plt\n",
    "%matplotlib inline\n",
    "import seaborn as sns\n",
    "\n",
    "## Display all columns of the DataFrame\n",
    "pd.pandas.set_option('display.max_columns',None)"
   ]
  },
  {
   "cell_type": "markdown",
   "metadata": {},
   "source": [
    "# Explore Features\n",
    "## Of Type: All\n",
    "### Target: Missing Values"
   ]
  },
  {
   "cell_type": "code",
   "execution_count": null,
   "metadata": {},
   "outputs": [],
   "source": [
    "features_with_missing_values = [feature for feature in df.columns if df[feature].isnull().sum() > 1]\n",
    "\n",
    "data = []\n",
    "for feature in features_with_missing_values:\n",
    "    missing_percentage = np.round(df[feature].isnull().mean() * 100, 2)\n",
    "    data.append([feature, missing_percentage])\n",
    "\n",
    "df_missing_values = pd.DataFrame(data, columns=['Feature', 'Missing Value (%)'])\n",
    "df_missing_values = df_missing_values.sort_values(by='Missing Value (%)', ascending=False)\n",
    "print(df_missing_values)"
   ]
  },
  {
   "cell_type": "markdown",
   "metadata": {},
   "source": [
    "### Isolate Extremes"
   ]
  },
  {
   "cell_type": "code",
   "execution_count": null,
   "metadata": {},
   "outputs": [],
   "source": [
    "mval_isolate_extremes = ['EnclosedPorch', 'WoodDeckSF']\n",
    "\n",
    "data = []\n",
    "for feature in mval_isolate_extremes:\n",
    "    missing_percentage = np.round(df[feature].isnull().mean() * 100, 2)\n",
    "    data.append([feature, missing_percentage])\n",
    "\n",
    "df_missing_values = pd.DataFrame(data, columns=['Feature', 'Missing Value (%)'])\n",
    "print(df_missing_values.to_string(index=False))"
   ]
  },
  {
   "cell_type": "markdown",
   "metadata": {},
   "source": [
    "### Observation: Significant Missing Values\n",
    "- 'EnclosedPorch'\n",
    "- 'WoodDeckSF'"
   ]
  },
  {
   "cell_type": "markdown",
   "metadata": {},
   "source": [
    "## Explore Correlations\n",
    "### Between: Missing Values & the Target Variable"
   ]
  },
  {
   "cell_type": "code",
   "execution_count": null,
   "metadata": {},
   "outputs": [],
   "source": [
    "for feature in features_with_missing_values:\n",
    "    data_mval = df.copy()\n",
    "    \n",
    "    # Replace missing values with 1\n",
    "    # Features with NO missing values are assigned 0 \n",
    "    data_mval[feature] = np.where(data_mval[feature].isnull(), 1, 0)\n",
    "    \n",
    "    data_mval.groupby(feature)['SalePrice'].median().plot.bar()\n",
    "    plt.title(feature)\n",
    "    plt.show()"
   ]
  },
  {
   "cell_type": "markdown",
   "metadata": {},
   "source": [
    "# Explore Features\n",
    "## Of Type: Numerical"
   ]
  },
  {
   "cell_type": "code",
   "execution_count": null,
   "metadata": {},
   "outputs": [],
   "source": [
    "# List\n",
    "numerical_features = [feature for feature in df.columns if df[feature].dtypes != 'O']\n",
    "\n",
    "print('Amount of Numerical Features: ', len(numerical_features))\n",
    "\n",
    "# Visualize\n",
    "df[numerical_features].head()"
   ]
  },
  {
   "cell_type": "markdown",
   "metadata": {},
   "source": [
    "# Explore Features\n",
    "## Of Type: Temporal"
   ]
  },
  {
   "cell_type": "code",
   "execution_count": null,
   "metadata": {},
   "outputs": [],
   "source": [
    "# List\n",
    "year_feature_in_numerical_features = [feature for feature in numerical_features if 'Yr' in feature or 'Year' in feature]\n",
    "print('Amount of Numerical Features: ', len(year_feature_in_numerical_features))\n",
    "year_feature_in_numerical_features"
   ]
  },
  {
   "cell_type": "code",
   "execution_count": null,
   "metadata": {},
   "outputs": [],
   "source": [
    "for feature in year_feature_in_numerical_features:\n",
    "    print(feature, df[feature].unique())"
   ]
  },
  {
   "cell_type": "markdown",
   "metadata": {},
   "source": [
    "## Explore Correlations\n",
    "### Between: Temporal Features & the Target Variable"
   ]
  },
  {
   "cell_type": "code",
   "execution_count": null,
   "metadata": {},
   "outputs": [],
   "source": [
    "# Explore\n",
    "df.groupby('YearBuilt')['SalePrice'].median().plot()\n",
    "plt.xlabel('Year Built')\n",
    "plt.ylabel('Median House Price')\n",
    "plt.title(\"YearBuilt vs SalePrice\")"
   ]
  },
  {
   "cell_type": "markdown",
   "metadata": {},
   "source": [
    "### Visualize Correlations\n",
    "Note: X-Axis represents the Amount Of Years Elapsed"
   ]
  },
  {
   "cell_type": "code",
   "execution_count": null,
   "metadata": {},
   "outputs": [],
   "source": [
    "for feature in year_feature_in_numerical_features:\n",
    "    if feature!='GarageYrBlt':\n",
    "        # Implement a new \"data\"-variable\n",
    "        data_of_year_features=df.copy()\n",
    "        # Compare\n",
    "        data_of_year_features[feature]=data_of_year_features['GarageYrBlt']-data_of_year_features[feature]\n",
    "\n",
    "        plt.scatter(data_of_year_features[feature],data_of_year_features['SalePrice'])\n",
    "        plt.xlabel(feature)\n",
    "        plt.ylabel('SalePrice')\n",
    "        plt.show()"
   ]
  },
  {
   "cell_type": "markdown",
   "metadata": {},
   "source": [
    "# Explore Features\n",
    "## Of Type: Numerical - Discrete"
   ]
  },
  {
   "cell_type": "code",
   "execution_count": null,
   "metadata": {},
   "outputs": [],
   "source": [
    "# Set \"25\" as the threshold for discrete variables\n",
    "discrete_in_numerical_features=[feature for feature in numerical_features if len(df[feature].unique())<25 and feature not in year_feature_in_numerical_features]\n",
    "\n",
    "print(\"Amount of Discrete Features: {}\".format(len(discrete_in_numerical_features)))\n",
    "\n",
    "discrete_in_numerical_features"
   ]
  },
  {
   "cell_type": "code",
   "execution_count": null,
   "metadata": {},
   "outputs": [],
   "source": [
    "df[discrete_in_numerical_features].head()"
   ]
  },
  {
   "cell_type": "markdown",
   "metadata": {},
   "source": [
    "## Explore Correlations\n",
    "### Between: Discrete Features & the Target Variable"
   ]
  },
  {
   "cell_type": "code",
   "execution_count": null,
   "metadata": {},
   "outputs": [],
   "source": [
    "for feature in discrete_in_numerical_features:\n",
    "    data_discrete=df.copy()\n",
    "    data_discrete.groupby(feature)['SalePrice'].median().plot.bar()\n",
    "    plt.xlabel(feature)\n",
    "    plt.ylabel('SalePrice')\n",
    "    plt.title(feature)\n",
    "    plt.show()"
   ]
  },
  {
   "cell_type": "markdown",
   "metadata": {},
   "source": [
    "### Observation:\n",
    "- 'OverallQual' has a Monotonic Relationship with the Target Variable "
   ]
  },
  {
   "cell_type": "markdown",
   "metadata": {},
   "source": [
    "## Explore Correlations \n",
    "### Between: Continuous Features & the Target Variable"
   ]
  },
  {
   "cell_type": "code",
   "execution_count": null,
   "metadata": {
    "scrolled": true
   },
   "outputs": [],
   "source": [
    "# Implement Variable\n",
    "cont_features=[feature for feature in numerical_features if feature not in discrete_in_numerical_features+year_feature_in_numerical_features]\n",
    "print(\"Amount of Continuous Features: {}\".format(len(cont_features)))\n",
    "cont_features"
   ]
  },
  {
   "cell_type": "code",
   "execution_count": null,
   "metadata": {},
   "outputs": [],
   "source": [
    "for feature in cont_features:\n",
    "    data_cont=df.copy()\n",
    "    data_cont[feature].hist(bins=25)\n",
    "    plt.xlabel(feature)\n",
    "    plt.ylabel(\"Amount\")\n",
    "    plt.title(feature)\n",
    "    plt.show()"
   ]
  },
  {
   "cell_type": "markdown",
   "metadata": {},
   "source": [
    "### Observation:\n",
    "- Non-Gaussian (Abnormal Distribution) patterns implies Skewness"
   ]
  },
  {
   "cell_type": "markdown",
   "metadata": {},
   "source": [
    "# Explore Distribution\n",
<<<<<<< HEAD
    "\n",
    "- Purpose: To explore skewness"
=======
    "### Logarithmic Transformation"
>>>>>>> 0797937e70798dfeb00138eaf0d20d9c6a1d6ed2
   ]
  },
  {
   "cell_type": "code",
   "execution_count": null,
   "metadata": {},
   "outputs": [],
   "source": [
    "df_skewness = df[cont_features].skew()\n",
    "\n",
    "print(\"Skewness in Features:\")\n",
    "\n",
    "for feature, skewness in zip(cont_features, df_skewness):\n",
    "    print(f\"{feature}: {skewness:.3f}\")"
   ]
  },
  {
   "cell_type": "markdown",
   "metadata": {},
   "source": [
    "## Explore Data Points\n",
    "### Of Type: Outliers\n",
    "#### With: Box Plot"
   ]
  },
  {
   "cell_type": "code",
   "execution_count": null,
   "metadata": {},
   "outputs": [],
   "source": [
    "# Identify Outliers\n",
    "for feature in cont_features:\n",
    "    data_of_outliers_in_cont=df.copy()\n",
    "    if 0 in data_of_outliers_in_cont[feature].unique():\n",
    "        pass\n",
    "    else:\n",
    "        data_of_outliers_in_cont[feature]=np.log(data_of_outliers_in_cont[feature])\n",
    "        data_of_outliers_in_cont.boxplot(column=feature)\n",
    "        plt.ylabel(feature)\n",
    "        plt.title(feature)\n",
    "        plt.show()"
   ]
  },
  {
   "cell_type": "markdown",
   "metadata": {},
   "source": [
    "# Explore Features\n",
    "## Of Type: Categorical"
   ]
  },
  {
   "cell_type": "code",
   "execution_count": null,
   "metadata": {},
   "outputs": [],
   "source": [
    "data_of_categorical=df.copy()\n",
    "\n",
    "categorical_features=[feature for feature in df.columns if data_of_categorical[feature].dtypes=='O']\n",
    "print(\"Amount of Categorical Features: {}\".format(len(categorical_features)))\n",
    "categorical_features"
   ]
  },
  {
   "cell_type": "code",
   "execution_count": null,
   "metadata": {},
   "outputs": [],
   "source": [
    "df[categorical_features].head()"
   ]
  },
  {
   "cell_type": "code",
   "execution_count": null,
   "metadata": {},
   "outputs": [],
   "source": [
    "for feature in categorical_features:\n",
    "    print(' {} has {}'.format(feature,df[feature].unique()))"
   ]
  },
  {
   "cell_type": "code",
   "execution_count": null,
   "metadata": {},
   "outputs": [],
   "source": [
    "# List all their labels/categories \n",
    "for feature in categorical_features:\n",
    "    print(' {} has {} labels'.format(feature,len(df[feature].unique())))"
   ]
  },
  {
   "cell_type": "markdown",
   "metadata": {},
   "source": [
    "## Explore Correlations\n",
    "### Between: Categorical Features & the Target Variable"
   ]
  },
  {
   "cell_type": "code",
   "execution_count": null,
   "metadata": {},
   "outputs": [],
   "source": [
    "for feature in categorical_features:\n",
    "\n",
    "    data_of_categorical.groupby(feature)['SalePrice'].median().plot.bar()\n",
    "    plt.xlabel(feature)\n",
    "    plt.ylabel('SalePrice')\n",
    "    plt.title(feature)\n",
    "    plt.show()"
   ]
  },
  {
   "cell_type": "markdown",
   "metadata": {
    "id": "uFQo3ycuO-v6"
   },
   "source": [
    "# Correlation Study"
   ]
  },
  {
   "cell_type": "markdown",
   "metadata": {},
   "source": [
    "- We use .corr() for spearman method, and sort the correlations in descending order.\n",
    "- We start with numeric variables such as '1stFlrSF' (First Floor square feet).\n",
    "- For each variable we remove missing data and zeros and calculate the correlation coefficient between the feature and the target variable. \n",
    "- We store it in a list and convert the list to a Pandas Series."
   ]
  },
  {
   "cell_type": "code",
   "execution_count": null,
   "metadata": {},
   "outputs": [],
   "source": [
    "lst = []\n",
    "# Remove zeros and missing values\n",
    "for col in df.columns[df.dtypes!='object'].to_list():\n",
    "    if col != 'SalePrice':\n",
    "        df1 = df[df[col]!=0]\n",
    "        df2 = df1[df1[col].notnull()]\n",
    "        df3 = df2.filter(['SalePrice', col])\n",
    "        corr_spearman = df3.corr(method='spearman')['SalePrice'][1:].round(2)\n",
    "        lst.append(corr_spearman[col])\n",
    "corr_num = pd.Series(index=df.columns[df.dtypes!='object'].drop(['SalePrice']).to_list(), data=lst).sort_values(key=abs, ascending=False)\n",
    "print(corr_num)"
   ]
  },
  {
   "cell_type": "markdown",
   "metadata": {},
   "source": [
    "### Encode the four object variables to numeric variables manually."
   ]
  },
  {
   "cell_type": "markdown",
   "metadata": {},
   "source": [
    "####  Mapping the ordinal categorical values to integers for the four object variables."
   ]
  },
  {
   "cell_type": "code",
   "execution_count": null,
   "metadata": {},
   "outputs": [],
   "source": [
    "dic = {'BsmtExposure': {'Gd': 3, 'Av': 2, 'Mn': 1, 'No': 0}, 'BsmtFinType1': {'GLQ': 5, 'ALQ': 4, 'BLQ': 3, 'Rec': 2, 'LwQ': 1, 'Unf': 0}, 'GarageFinish': {'Fin': 2, 'RFn': 1, 'Unf': 0}, 'KitchenQual': {'Ex': 4, 'Gd': 3, 'TA': 2, 'Fa': 1, 'Po': 0}}\n",
    "lst = []\n",
    "# Remove first None and missing values\n",
    "for col in df.columns[df.dtypes=='object'].to_list():\n",
    "    df1 = df[df[col]!='None']\n",
    "    df2 = df1[df1[col].notnull()]\n",
    "    df3[col] = df2[col].replace(dic[col])\n",
    "    df4 = df3.filter(['SalePrice', col])\n",
    "    corr_spearman = df4.corr(method='spearman')['SalePrice'][1:].round(2)\n",
    "    lst.append(corr_spearman[col])\n",
    "corr_object = pd.Series(index=df.columns[df.dtypes=='object'].to_list(), data=lst).sort_values(key=abs, ascending=False)\n",
    "print(corr_object)"
   ]
  },
  {
   "cell_type": "markdown",
   "metadata": {},
   "source": [
    "- Combine both series of correlation coefficients and sort in ascending order for the heatmap:"
   ]
  },
  {
   "cell_type": "code",
   "execution_count": null,
   "metadata": {},
   "outputs": [],
   "source": [
    "corr = corr_num.append(corr_object).sort_values(key=abs, ascending=False).round(2)\n",
    "corr_df = pd.DataFrame(index=['SalePrice'], columns=corr.index, data=corr.values.reshape(1,-1).tolist())\n",
    "corr_df_rev = corr_df[corr_df.columns[::-1]]\n",
    "corr"
   ]
  },
  {
   "cell_type": "markdown",
   "metadata": {},
   "source": [
    "# Correlation Coefficients - Heatmap"
   ]
  },
  {
   "cell_type": "code",
   "execution_count": null,
   "metadata": {
    "scrolled": true
   },
   "outputs": [],
   "source": [
    "import numpy as np\n",
    "import matplotlib.pyplot as plt\n",
    "import seaborn as sns\n",
    "fig, axes = plt.subplots(figsize=(15,6))\n",
    "annot_size = 8\n",
    "\n",
    "# Retain only correlation values above 0.4\n",
    "mask = np.zeros_like(corr_df_rev, dtype=np.bool)\n",
    "mask[corr_df_rev.abs() < 0.4] = True\n",
    "\n",
    "sns.heatmap(data=corr_df_rev, annot=True, xticklabels=True, yticklabels=True,\n",
    "            mask=mask, cmap='viridis', annot_kws={\"size\": annot_size}, ax=axes,\n",
    "            linewidth=0.5)\n",
    "\n",
    "plt.show()"
   ]
  },
  {
   "cell_type": "markdown",
   "metadata": {},
   "source": [
    "- Moderately Strong = 0.4 to 0.6\n",
    "- Strong = above 0.6"
   ]
  },
  {
   "cell_type": "markdown",
   "metadata": {},
   "source": [
    "##### dtype_dic is a dictionary used to choose between a scatterplot and a strip plot"
   ]
  },
  {
   "cell_type": "code",
   "execution_count": null,
   "metadata": {},
   "outputs": [],
   "source": [
    "strong_correlation = ['OverallQual', 'GrLivArea', '2ndFlrSF', 'KitchenQual', 'YearBuilt', 'GarageArea', 'GarageFinish']\n",
    "moderate_correlation = ['GarageYrBlt', '1stFlrSF', 'TotalBsmtSF', 'YearRemodAdd', 'LotArea', 'LotFrontage', 'BsmtFinSF1']\n",
    "dtype_dict = {'OverallQual': 'object', 'GrLivArea': 'numeric', '2ndFlrSF': 'numeric', 'KitchenQual': 'object', 'YearBuilt': 'numeric', 'GarageArea': 'numeric', 'GarageFinish': 'object', 'GarageYrBlt': 'numeric', '1stFlrSF': 'numeric', 'TotalBsmtSF': 'numeric', 'YearRemodAdd': 'numeric', 'LotArea': 'numeric', 'LotFrontage': 'numeric', 'BsmtFinSF1': 'numeric'}"
   ]
  },
  {
   "cell_type": "markdown",
   "metadata": {},
   "source": [
    "# Scatterplots between house attributes and sale price"
   ]
  },
  {
   "cell_type": "code",
   "execution_count": null,
   "metadata": {
    "scrolled": false
   },
   "outputs": [],
   "source": [
    "# Remove Zeros & None values and missing values\n",
    "for col in strong_correlation:\n",
    "    if df[col].dtype == 'object':\n",
    "        df1 = df[df[col]!='None']\n",
    "        df2 = df1[df1[col].notnull()]\n",
    "        df3[col] = df2[col].replace(dic[col])\n",
    "    else:\n",
    "        df1 = df[df[col]!=0]\n",
    "        df3 = df1[df1[col].notnull()]\n",
    "    if dtype_dict[col] == 'object':\n",
    "        fig, axes = plt.subplots(figsize=(12,6))\n",
    "        sns.stripplot(data=df3, x=col, y='SalePrice')\n",
    "        plt.show()\n",
    "    elif dtype_dict[col] == 'numeric':\n",
    "        fig, axes = plt.subplots(figsize=(12,6))\n",
    "        sns.scatterplot(data=df3, x=col, y='SalePrice', alpha=0.5)\n",
    "        plt.show()\n",
    "\n",
    "for col in moderate_correlation:\n",
    "    if df[col].dtype == 'object':\n",
    "        df1 = df[df[col]!='None']\n",
    "        df2 = df1[df1[col].notnull()]\n",
    "        df3[col] = df2[col].replace(dic[col])\n",
    "    else:\n",
    "        df1 = df[df[col]!=0]\n",
    "        df3 = df1[df1[col].notnull()]\n",
    "    if dtype_dict[col] == 'object':\n",
    "        fig, axes = plt.subplots(figsize=(12,6))\n",
    "        sns.stripplot(data=df, x=col, y='SalePrice')\n",
    "        plt.show()\n",
    "    elif dtype_dict[col] == 'numeric':\n",
    "        fig, axes = plt.subplots(figsize=(12,6))\n",
    "        sns.scatterplot(data=df, x=col, y='SalePrice', alpha=0.5)\n",
    "        plt.show()"
   ]
  },
  {
   "cell_type": "markdown",
   "metadata": {},
   "source": [
    "### Observation:\n",
    "- Skewness-direction: Right"
   ]
  },
  {
   "cell_type": "markdown",
   "metadata": {},
   "source": [
    "## Store correlation coefficients in a DataFrame"
   ]
  },
  {
   "cell_type": "code",
   "execution_count": null,
   "metadata": {},
   "outputs": [],
   "source": [
    "import os\n",
    "try:\n",
    "  os.makedirs(name='outputs/datasets/collection')\n",
    "except Exception as e:\n",
    "  print(e)\n",
    "\n",
    "corr_df_rev.to_csv(f\"outputs/datasets/collection/corr_df_rev.csv\",index=False)"
   ]
  },
  {
   "cell_type": "markdown",
   "metadata": {},
   "source": [
    "## Store dictionary used for encoding object variables"
   ]
  },
  {
   "cell_type": "code",
   "execution_count": null,
   "metadata": {},
   "outputs": [],
   "source": [
    "import joblib\n",
    "\n",
    "try:\n",
    "  os.makedirs(name='outputs/eda_study/')\n",
    "except Exception as e:\n",
    "  print(e)\n",
    "\n",
    "file_path = f'outputs/eda_study/'\n",
    "\n",
    "joblib.dump(value=dic, filename=f\"{file_path}dict_for_encoding.pkl\")"
   ]
  },
  {
   "cell_type": "markdown",
   "metadata": {},
   "source": [
    "# End of Notebook"
   ]
  }
 ],
 "metadata": {
  "accelerator": "GPU",
  "colab": {
   "name": "Data Practitioner Jupyter Notebook.ipynb",
   "provenance": [],
   "toc_visible": true
  },
  "interpreter": {
   "hash": "8b8334dab9339717f727a1deaf837b322d7a41c20d15cc86be99a8e69ceec8ce"
  },
  "kernelspec": {
   "display_name": "Python 3.8.12 64-bit ('3.8.12': pyenv)",
   "language": "python",
   "name": "python381264bit3812pyenv81cdd682ff264c619337b331e5d72cb4"
  },
  "language_info": {
   "codemirror_mode": {
    "name": "ipython",
    "version": 3
   },
   "file_extension": ".py",
   "mimetype": "text/x-python",
   "name": "python",
   "nbconvert_exporter": "python",
   "pygments_lexer": "ipython3",
   "version": "3.8.12"
  }
 },
 "nbformat": 4,
 "nbformat_minor": 2
}
